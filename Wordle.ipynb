{
 "cells": [
  {
   "cell_type": "markdown",
   "id": "c091149e",
   "metadata": {},
   "source": [
    "<b>An interesting yet simple algorithmic approach to playing the popular 'Wordle' game recently bought by the NYT.<br>If nothing else, you will learn a lot about 5 letter words.</b><br><br>\n",
    "You can play the game here - https://www.powerlanguage.co.uk/wordle/<br><br>\n",
    "First, let us get a list of all possible 5 letter words.<br> I found this one on github - https://github.com/charlesreid1/five-letter-words/blob/master/sgb-words.txt"
   ]
  },
  {
   "cell_type": "code",
   "execution_count": 2,
   "id": "7d4883c8",
   "metadata": {},
   "outputs": [
    {
     "name": "stdout",
     "output_type": "stream",
     "text": [
      "Corpus has 5757 words.\n",
      "Preview : ['imply', 'didot', 'agars', 'aloft', 'vigil', 'spout', 'pasta', 'prawn', 'molly', 'snoop', 'hapax', 'tamer', 'umbel', 'yokes', 'bores', 'reign', 'taros', 'bawdy', 'naiad', 'temps', 'older', 'halve', 'corer', 'youse', 'snack', 'manic', 'bebug', 'color', 'adobe', 'weals', 'rubes', 'didos', 'gangs', 'sugar', 'hitch', 'feuar', 'sides', 'chile', 'plots', 'venue', 'crept', 'grata', 'mange', 'velds', 'worst', 'happy', 'zests', 'sines', 'cupid', 'dotes', 'poohs', 'taxol', 'tided', 'rusks', 'shore', 'sprig', 'inept', 'washy', 'truss', 'serfs', 'bikes', 'whipt', 'darer', 'molar', 'bough', 'scarp', 'phyla', 'hills', 'saxes', 'faddy', 'brawn', 'hyper', 'dicks', 'locks', 'gazed', 'feast', 'inode', 'bolas', 'gouts', 'polly', 'sagas', 'manse', 'dowel', 'wheat', 'falls', 'graze', 'whiff', 'duped', 'filmy', 'bocci', 'mints', 'blunt', 'games', 'rends', 'scion', 'intro', 'might', 'clogs', 'pasts', 'frees']\n"
     ]
    }
   ],
   "source": [
    "\"\"\"\n",
    "Let's read the file into python as a list of words\n",
    "\"\"\"\n",
    "\n",
    "import requests\n",
    "url = 'https://raw.githubusercontent.com/charlesreid1/five-letter-words/master/sgb-words.txt'\n",
    "\n",
    "# Fetch the data using a HTTP request\n",
    "words = requests.get(url).content.decode().split('\\n')\n",
    "\n",
    "# Just a double check to see if all words are 5 letter words. Also removes stray spaces\n",
    "words = [word for word in words if len(word) == 5]\n",
    "\n",
    "# We will call our word set a corpus because we are fancy like that\n",
    "print('Corpus has {} words.'.format(len(words)))\n",
    "\n",
    "import random\n",
    "print('Preview : {}'.format(random.sample(words,100)))"
   ]
  },
  {
   "cell_type": "markdown",
   "id": "a7743dd2",
   "metadata": {},
   "source": [
    "<b>The essense of the algorithm - <br>\n",
    "We will use simple probabilities to make guesses which eliminate maximum number of potential next guesses</b>"
   ]
  },
  {
   "cell_type": "markdown",
   "id": "22ea3696",
   "metadata": {},
   "source": [
    "<b>Approach 1</b> - Don't care about positions<br>\n",
    "We find the frequency of occourence of each letter in our list of words. We only check if it appears somewhere in the word, not at any particular position."
   ]
  },
  {
   "cell_type": "code",
   "execution_count": 13,
   "id": "aee99045",
   "metadata": {},
   "outputs": [
    {
     "name": "stdout",
     "output_type": "stream",
     "text": [
      "{'w': 505, 'h': 814, 'i': 1592, 'c': 964, 't': 1585, 'e': 3009, 'r': 1910, 'a': 2348, 'b': 715, 'o': 1915, 'u': 1089, 'l': 1586, 'd': 1181, 's': 3033, 'f': 561, 'g': 679, 'n': 1285, 'k': 596, 'y': 886, 'p': 955, 'v': 318, 'm': 843, 'q': 53, 'j': 89, 'x': 139, 'z': 135}\n"
     ]
    }
   ],
   "source": [
    "# Dictionary to store the frequencies\n",
    "frequencies = {}\n",
    "\n",
    "for word in words:\n",
    "    for letter in word:\n",
    "        # If letter already exists, increment\n",
    "        if letter in frequencies: \n",
    "            frequencies[letter] += 1\n",
    "        # Else, set count to 1\n",
    "        else: \n",
    "            frequencies[letter] = 1\n",
    "            \n",
    "print(frequencies)"
   ]
  },
  {
   "cell_type": "markdown",
   "id": "d1a33ff5",
   "metadata": {},
   "source": [
    "The above dictionary means that the letter 's' occours in 3033 words out of our 5757 words, 'w' occours in 505, etc.\n",
    "So, we guess 'S' "
   ]
  },
  {
   "cell_type": "code",
   "execution_count": 14,
   "id": "9b3f6aeb",
   "metadata": {},
   "outputs": [
    {
     "data": {
      "image/png": "[encoded data removed]",
      "text/plain": [
       "<Figure size 432x288 with 1 Axes>"
      ]
     },
     "metadata": {
      "needs_background": "light"
     },
     "output_type": "display_data"
    }
   ],
   "source": [
    "\"\"\"\n",
    "Visualizing the data above just for the lulz\n",
    "\"\"\"\n",
    "\n",
    "import matplotlib.pylab as plt\n",
    "lists = sorted(frequencies.items()) # sort alphabetically\n",
    "x, y = zip(*lists)\n",
    "plt.plot(x, y)\n",
    "plt.show()"
   ]
  },
  {
   "cell_type": "markdown",
   "id": "539edfbc",
   "metadata": {},
   "source": [
    "<b>We generate a score based on how 'disruptive' each letter in the word is<br>\n",
    "Which letters should we guess?<br>\n",
    "We guess the words which divide the list the most<br>\n",
    "Think about it -\n",
    "<li>If we guess letters which which are in only 1% (no such actual case but imagine) of the words, there's a high chance we get a GREY and we have eliminated only 1% of possible options\n",
    "<li>If we guess letters which are in 99% (no such actual case but imagine) of the words, there's a high chance we get a YELLOW and we have eliminated only 1% of possible options\n",
    "<li>So we give higher scores to letters whose frequencies are closest to half (50%) of the number of total words!"
   ]
  },
  {
   "cell_type": "code",
   "execution_count": 26,
   "id": "f85fedba",
   "metadata": {},
   "outputs": [
    {
     "name": "stdout",
     "output_type": "stream",
     "text": [
      "{'s': 2724, 'e': 2748, 'a': 3409, 'o': 3842, 'r': 3847, 'i': 4165, 'l': 4171, 't': 4172, 'n': 4472, 'd': 4576, 'u': 4668, 'c': 4793, 'p': 4802, 'y': 4871, 'm': 4914, 'h': 4943, 'b': 5042, 'g': 5078, 'k': 5161, 'f': 5196, 'w': 5252, 'v': 5439, 'x': 5618, 'z': 5622, 'j': 5668, 'q': 5704}\n"
     ]
    }
   ],
   "source": [
    "# Generating distances from halfway as TOTAL NO. OF WORDS - FREQUENCY OF WORDS IN WHICH THE LETTER OCCOURS\n",
    "scores_algorithm_1 = {}\n",
    "for letter in frequencies:\n",
    "    scores_algorithm_1[letter] = len(words) - frequencies[letter]\n",
    "# Sorting letters based on their distance from the half\n",
    "print({k: v for k, v in sorted(scores_algorithm_1.items(), key=lambda item: item[1])})"
   ]
  },
  {
   "cell_type": "markdown",
   "id": "8fb92dae",
   "metadata": {},
   "source": [
    "<b>Does this mean 'seaor' is the best guess according to Algorithm 1?<br>\n",
    "Well yes... but the game only allows valid words. So we have to use these <font color = \"red\">letter scores</font> to generate <font color = \"red\">word scores</font> for all valid words<br>\n",
    "Lesser the score, better the word."
   ]
  },
  {
   "cell_type": "code",
   "execution_count": 118,
   "id": "b5c433d2",
   "metadata": {},
   "outputs": [
    {
     "data": {
      "text/plain": [
       "[('arose', 16570),\n",
       " ('raise', 16893),\n",
       " ('arise', 16893),\n",
       " ('aloes', 16894),\n",
       " ('stoae', 16895),\n",
       " ('laser', 16899),\n",
       " ('earls', 16899),\n",
       " ('reals', 16899),\n",
       " ('tears', 16900),\n",
       " ('rates', 16900),\n",
       " ('stare', 16900),\n",
       " ('aster', 16900),\n",
       " ('tares', 16900),\n",
       " ('snare', 17200),\n",
       " ('earns', 17200)]"
      ]
     },
     "execution_count": 118,
     "metadata": {},
     "output_type": "execute_result"
    }
   ],
   "source": [
    "# Score based on overall frequency\n",
    "word_scores_algorithm_1 = {}\n",
    "for word in words:\n",
    "    scores = scores_algorithm_1.copy()\n",
    "    word_score = 0\n",
    "    for letter in word:\n",
    "        word_score += scores[letter]\n",
    "        \"\"\"\n",
    "        THIS PART IS IMPORTANT!\n",
    "        Currently the algorithm just tries to fit in as much high scoring letters as possible\n",
    "        But we want to penalize repetition of letters because repeated letters give us less info\n",
    "        So, once we have used a letter, we set its score to the max score value to penalize guesses with repetitions\n",
    "        \"\"\"\n",
    "        scores[letter] = len(words)\n",
    "    word_scores_algorithm_1[word] = word_score\n",
    "\n",
    "# Sorting the scored words\n",
    "_sorted_scores = {k: v for k, v in sorted(word_scores_algorithm_1.items(), key=lambda item: item[1])}\n",
    "list(_sorted_scores.items())[:15]"
   ]
  },
  {
   "cell_type": "code",
   "execution_count": 117,
   "id": "ba810b48",
   "metadata": {},
   "outputs": [
    {
     "data": {
      "text/plain": [
       "[('arose', 100.0),\n",
       " ('raise', 99.96668385765858),\n",
       " ('arise', 99.96668385765858),\n",
       " ('aloes', 99.96658071170707),\n",
       " ('stoae', 99.96647756575554),\n",
       " ('laser', 99.96606498194946),\n",
       " ('earls', 99.96606498194946),\n",
       " ('reals', 99.96606498194946),\n",
       " ('tears', 99.96596183599793),\n",
       " ('rates', 99.96596183599793),\n",
       " ('stare', 99.96596183599793),\n",
       " ('aster', 99.96596183599793),\n",
       " ('tares', 99.96596183599793),\n",
       " ('snare', 99.93501805054152),\n",
       " ('earns', 99.93501805054152)]"
      ]
     },
     "execution_count": 117,
     "metadata": {},
     "output_type": "execute_result"
    }
   ],
   "source": [
    "\"\"\"\n",
    "Let's just normalize the above scores to be between 1-100\n",
    "We will use the simplest, most common way to normalize - min/max normalization\n",
    "\"\"\"\n",
    "max_score_algorithm_1 = word_scores_algorithm_1[max(word_scores_algorithm_1, key=word_scores_algorithm_1.get)]\n",
    "min_score_algorithm_1 = word_scores_algorithm_1[min(word_scores_algorithm_1, key=word_scores_algorithm_1.get)]\n",
    "\n",
    "normalized_scores_algorithm_1 = {}\n",
    "\n",
    "\"\"\"\n",
    "PULLING AN UNO REVERSE BY SUBTRACTING SCORES FROM 100\n",
    "NOW THE HIGHER THE SCORES, THE BETTER!\n",
    "\"\"\"\n",
    "for word in words:\n",
    "    normalized_scores_algorithm_1[word] = 100 - (word_scores_algorithm_1[word] - min_score_algorithm_1) / (\n",
    "                max_score_algorithm_1 - min_score_algorithm_1)\n",
    "    \n",
    "_sorted_scores = {k: v for k, v in sorted(normalized_scores_algorithm_1.items(), key=lambda item: item[1], reverse=True)}\n",
    "list(_sorted_scores.items())[:15]"
   ]
  },
  {
   "cell_type": "markdown",
   "id": "9aac1d39",
   "metadata": {},
   "source": [
    "<b>Results tell us 'arose' is the best word to guess<br>\n",
    "And this is perfect because it has the same letters as 'seaor' but is a valid word. So our scoring logic worked really well!"
   ]
  },
  {
   "cell_type": "markdown",
   "id": "9f070ca9",
   "metadata": {},
   "source": [
    "<b>Pros of algorithm 1:\n",
    "<li> Penalizes Repetitions<br>\n",
    "<b>Cons of algorithm 1:</b>\n",
    "<li> Does not care about position of letters within the word"
   ]
  },
  {
   "cell_type": "markdown",
   "id": "9d2dac2f",
   "metadata": {},
   "source": [
    "<b>So, we make algorithm 2 to take this into account"
   ]
  },
  {
   "cell_type": "code",
   "execution_count": 48,
   "id": "288d8bb6",
   "metadata": {},
   "outputs": [
    {
     "name": "stdout",
     "output_type": "stream",
     "text": [
      "frequency of letters as the 1st Letter:\n",
      "{'w': 228, 't': 376, 'a': 296, 'o': 108, 'c': 440, 'f': 318, 'r': 268, 'y': 47, 'p': 386, 's': 724, 'g': 279, 'e': 129, 'n': 118, 'u': 75, 'm': 298, 'h': 239, 'b': 432, 'l': 271, 'k': 91, 'v': 109, 'q': 39, 'd': 311, 'i': 74, 'j': 73, 'z': 24, 'x': 4}\n",
      "frequency of letters as the 2nd Letter:\n",
      "{'h': 271, 'b': 32, 'o': 911, 't': 122, 'r': 456, 'i': 673, 'a': 930, 'f': 12, 'e': 660, 'l': 360, 'g': 24, 'v': 27, 'm': 71, 'n': 168, 's': 40, 'u': 534, 'p': 113, 'd': 43, 'c': 82, 'q': 10, 'w': 81, 'y': 65, 'x': 33, 'k': 29, 'z': 6, 'j': 4}\n",
      "frequency of letters as the 3rd Letter:\n",
      "{'i': 516, 'e': 397, 'o': 484, 'u': 313, 'h': 39, 'r': 475, 't': 280, 'g': 139, 'a': 605, 'v': 121, 'd': 178, 'l': 388, 'k': 90, 'n': 410, 'p': 169, 'm': 209, 's': 248, 'b': 128, 'w': 98, 'y': 68, 'c': 184, 'j': 8, 'x': 67, 'f': 87, 'z': 52, 'q': 4}\n",
      "frequency of letters as the 4th Letter:\n",
      "{'c': 210, 'r': 310, 'i': 284, 'u': 154, 'l': 365, 's': 257, 'e': 1228, 'd': 218, 't': 447, 'h': 73, 'n': 386, 'a': 339, 'o': 262, 'g': 176, 'v': 61, 'w': 70, 'm': 188, 'k': 243, 'b': 99, 'p': 196, 'f': 100, 'y': 41, 'z': 41, 'j': 4, 'x': 5}\n",
      "frequency of letters as the 5th Letter:\n",
      "{'h': 192, 'e': 595, 'r': 401, 't': 360, 'd': 431, 's': 1764, 'k': 143, 'n': 203, 'l': 202, 'y': 665, 'w': 28, 'g': 61, 'c': 48, 'p': 91, 'o': 150, 'f': 44, 'a': 178, 'm': 77, 'b': 24, 'x': 30, 'i': 45, 'u': 13, 'z': 12}\n"
     ]
    }
   ],
   "source": [
    "\"\"\"\n",
    "We find the frequency - not overall, but in each position\n",
    "\"\"\"\n",
    "\n",
    "position_to_letter_mapping = {\n",
    "    0 : '1st Letter',\n",
    "    1 : '2nd Letter',\n",
    "    2 : '3rd Letter',\n",
    "    3 : '4th Letter',\n",
    "    4 : '5th Letter'\n",
    "}\n",
    "\n",
    "frequency_at_positions = {}\n",
    "\n",
    "for position in range(5):\n",
    "    frequency_at_positions[position] = {}\n",
    "    \n",
    "for word in words:\n",
    "    for position in range(5):\n",
    "        if word[position] in frequency_at_positions[position]:\n",
    "            frequency_at_positions[position][word[position]] += 1\n",
    "        else:\n",
    "            frequency_at_positions[position][word[position]] = 1\n",
    "            \n",
    "for position in range(5):\n",
    "    print('frequency of letters as the {}:'.format(position_to_letter_mapping[position]))\n",
    "    print(frequency_at_positions[position])"
   ]
  },
  {
   "cell_type": "code",
   "execution_count": 49,
   "id": "2396753a",
   "metadata": {},
   "outputs": [
    {
     "name": "stdout",
     "output_type": "stream",
     "text": [
      "frequency of letters as the 1st Letter:\n"
     ]
    },
    {
     "data": {
      "image/png": "[encoded data removed]",
      "text/plain": [
       "<Figure size 432x288 with 1 Axes>"
      ]
     },
     "metadata": {
      "needs_background": "light"
     },
     "output_type": "display_data"
    },
    {
     "name": "stdout",
     "output_type": "stream",
     "text": [
      "frequency of letters as the 2nd Letter:\n"
     ]
    },
    {
     "data": {
      "image/png": "[encoded data removed]",
      "text/plain": [
       "<Figure size 432x288 with 1 Axes>"
      ]
     },
     "metadata": {
      "needs_background": "light"
     },
     "output_type": "display_data"
    },
    {
     "name": "stdout",
     "output_type": "stream",
     "text": [
      "frequency of letters as the 3rd Letter:\n"
     ]
    },
    {
     "data": {
      "image/png": "[encoded data removed]",
      "text/plain": [
       "<Figure size 432x288 with 1 Axes>"
      ]
     },
     "metadata": {
      "needs_background": "light"
     },
     "output_type": "display_data"
    },
    {
     "name": "stdout",
     "output_type": "stream",
     "text": [
      "frequency of letters as the 4th Letter:\n"
     ]
    },
    {
     "data": {
      "image/png": "[encoded data removed]",
      "text/plain": [
       "<Figure size 432x288 with 1 Axes>"
      ]
     },
     "metadata": {
      "needs_background": "light"
     },
     "output_type": "display_data"
    },
    {
     "name": "stdout",
     "output_type": "stream",
     "text": [
      "frequency of letters as the 5th Letter:\n"
     ]
    },
    {
     "data": {
      "image/png": "[encoded data removed]",
      "text/plain": [
       "<Figure size 432x288 with 1 Axes>"
      ]
     },
     "metadata": {
      "needs_background": "light"
     },
     "output_type": "display_data"
    }
   ],
   "source": [
    "# Plotting the same\n",
    "\n",
    "\"\"\"\n",
    "Visualizing the data above just for the lulz\n",
    "\"\"\"\n",
    "\n",
    "for position in range(5):\n",
    "    print('frequency of letters as the {}:'.format(position_to_letter_mapping[position]))\n",
    "    lists = sorted(frequency_at_positions[position].items()) # sort alphabetically\n",
    "    x, y = zip(*lists)\n",
    "    plt.plot(x, y)\n",
    "    plt.show()"
   ]
  },
  {
   "cell_type": "code",
   "execution_count": 116,
   "id": "66416f99",
   "metadata": {},
   "outputs": [
    {
     "data": {
      "text/plain": [
       "[('sores', 23683),\n",
       " ('sales', 23751),\n",
       " ('soles', 23770),\n",
       " ('sates', 23859),\n",
       " ('sires', 23921),\n",
       " ('cares', 23948),\n",
       " ('bares', 23956),\n",
       " ('cores', 23967),\n",
       " ('bores', 23975),\n",
       " ('sines', 23986),\n",
       " ('sages', 24000),\n",
       " ('pares', 24002),\n",
       " ('tares', 24012),\n",
       " ('canes', 24013),\n",
       " ('saves', 24018)]"
      ]
     },
     "execution_count": 116,
     "metadata": {},
     "output_type": "execute_result"
    }
   ],
   "source": [
    "\"\"\"\n",
    "We know we have to score the words to get the best valid guess\n",
    "\"\"\"\n",
    "\n",
    "# score based on positional\n",
    "word_scores_algorithm_2 = {}\n",
    "for word in words:\n",
    "    word_score = 0\n",
    "    position = 0\n",
    "    for letter in word:\n",
    "        scores = frequency_at_positions[position]\n",
    "        word_score += len(words) - scores[letter]\n",
    "        position += 1\n",
    "    word_scores_algorithm_2[word] = word_score\n",
    "    \n",
    "_sorted_scores = {k: v for k, v in sorted(word_scores_algorithm_2.items(), key=lambda item: item[1])}\n",
    "list(_sorted_scores.items())[:15]"
   ]
  },
  {
   "cell_type": "code",
   "execution_count": 115,
   "id": "a2672983",
   "metadata": {},
   "outputs": [
    {
     "data": {
      "text/plain": [
       "[('sores', 100.0),\n",
       " ('sales', 99.9851170934559),\n",
       " ('soles', 99.98095863427446),\n",
       " ('sates', 99.96147953600351),\n",
       " ('sires', 99.94790982709564),\n",
       " ('cares', 99.94200043773255),\n",
       " ('bares', 99.94024950755089),\n",
       " ('cores', 99.9378419785511),\n",
       " ('bores', 99.93609104836945),\n",
       " ('sines', 99.93368351936967),\n",
       " ('sages', 99.93061939155176),\n",
       " ('pares', 99.93018165900635),\n",
       " ('tares', 99.92799299627927),\n",
       " ('canes', 99.92777413000657),\n",
       " ('saves', 99.92667979864304)]"
      ]
     },
     "execution_count": 115,
     "metadata": {},
     "output_type": "execute_result"
    }
   ],
   "source": [
    "\"\"\"\n",
    "Let's just normalize the above scores as we did with algorithm 1\n",
    "\"\"\"\n",
    "max_score_algorithm_2 = word_scores_algorithm_2[max(word_scores_algorithm_2, key=word_scores_algorithm_2.get)]\n",
    "min_score_algorithm_2 = word_scores_algorithm_2[min(word_scores_algorithm_2, key=word_scores_algorithm_2.get)]\n",
    "\n",
    "normalized_scores_algorithm_2 = {}\n",
    "\n",
    "for word in words:\n",
    "    normalized_scores_algorithm_2[word] = 100 - (word_scores_algorithm_2[word] - min_score_algorithm_2) / (\n",
    "                max_score_algorithm_2 - min_score_algorithm_2)\n",
    "    \n",
    "_sorted_scores = {k: v for k, v in sorted(normalized_scores_algorithm_2.items(), key=lambda item: item[1], reverse=True)}\n",
    "list(_sorted_scores.items())[:15]"
   ]
  },
  {
   "cell_type": "markdown",
   "id": "b7ab08f7",
   "metadata": {},
   "source": [
    "<b>So according to algorithm 2, 'sores' is the most disruptive word because it has letters which are most frequent (closest to half of the number of words) at that particular position"
   ]
  },
  {
   "cell_type": "markdown",
   "id": "6f3415a3",
   "metadata": {},
   "source": [
    "<b>Pros of algorithm 2:\n",
    "<li> Cares about position of letters within the word<br>\n",
    "<b>Cons of algorithm 2:</b>\n",
    "<li> Does not penalize repetitions"
   ]
  },
  {
   "cell_type": "code",
   "execution_count": 114,
   "id": "b0e54be2",
   "metadata": {},
   "outputs": [
    {
     "data": {
      "text/plain": [
       "[('tares', 99.9469774161386),\n",
       " ('cares', 99.92195431891784),\n",
       " ('tales', 99.92074708912936),\n",
       " ('dares', 99.91902878006829),\n",
       " ('pares', 99.9155807727729),\n",
       " ('rates', 99.91381917582343),\n",
       " ('lores', 99.91112818170213),\n",
       " ('bares', 99.90823718286259),\n",
       " ('nares', 99.90327177423114),\n",
       " ('roles', 99.90127919943029),\n",
       " ('mares', 99.90017448348857),\n",
       " ('cores', 99.89754399082274),\n",
       " ('lanes', 99.8961922460838),\n",
       " ('dales', 99.89279845305906),\n",
       " ('hares', 99.89222231214666)]"
      ]
     },
     "execution_count": 114,
     "metadata": {},
     "output_type": "execute_result"
    }
   ],
   "source": [
    "\"\"\"\n",
    "Since both have pros and cons, what do we do?\n",
    "Simple, take the average\n",
    "\"\"\"\n",
    "\n",
    "normalized_scores = {}\n",
    "for word in words:\n",
    "    normalized_scores[word] = (normalized_scores_algorithm_1[word] + normalized_scores_algorithm_2[word]) / 2\n",
    "    \n",
    "_sorted_scores = {k: v for k, v in sorted(normalized_scores.items(), key=lambda item: item[1], reverse=True)}\n",
    "list(_sorted_scores.items())[:15]"
   ]
  },
  {
   "cell_type": "markdown",
   "id": "6a956ed2",
   "metadata": {},
   "source": [
    "<b>Best starting word as per combined algorithm is 'tares'"
   ]
  },
  {
   "cell_type": "markdown",
   "id": "cf4c3c82",
   "metadata": {},
   "source": [
    "<h3>Using this holy grail of information</h3>\n",
    "\n",
    "<b>So we did this for a list of all words, if we want to do it for a list of filtered words, all the logic remains the same"
   ]
  },
  {
   "cell_type": "code",
   "execution_count": 101,
   "id": "1c6b9ffd",
   "metadata": {},
   "outputs": [],
   "source": [
    "\"\"\"\n",
    "There is literally nothing new in this code\n",
    "It is just the code used above mushed into a single function so it can be called for a specific list of words\n",
    "\"\"\"\n",
    "\n",
    "\n",
    "def get_best_word(words):\n",
    "    # ALGO 1\n",
    "    scores_algorithm_1 = {}\n",
    "    for letter in frequencies:\n",
    "        scores_algorithm_1[letter] = len(words) - frequencies[letter]\n",
    "    word_scores_algorithm_1 = {}\n",
    "    for word in words:\n",
    "        scores = scores_algorithm_1.copy()\n",
    "        word_score = 0\n",
    "        for letter in word:\n",
    "            word_score += scores[letter]\n",
    "            scores[letter] = len(words)\n",
    "        word_scores_algorithm_1[word] = word_score\n",
    "\n",
    "    max_score_algorithm_1 = word_scores_algorithm_1[max(word_scores_algorithm_1, key=word_scores_algorithm_1.get)]\n",
    "    min_score_algorithm_1 = word_scores_algorithm_1[min(word_scores_algorithm_1, key=word_scores_algorithm_1.get)]\n",
    "    normalized_scores_algorithm_1 = {}\n",
    "    for word in words:\n",
    "        normalized_scores_algorithm_1[word] = round(100 - (word_scores_algorithm_1[word] - min_score_algorithm_1) / (\n",
    "                max_score_algorithm_1 - min_score_algorithm_1), 3)\n",
    "\n",
    "    sorted_scores_algorithm_1 = {k: v for k, v in\n",
    "                                 sorted(normalized_scores_algorithm_1.items(), key=lambda item: item[1], reverse=True)}\n",
    "    print('Best guesses according to Algorithm 1:')\n",
    "    print(list(sorted_scores_algorithm_1.items())[:5])\n",
    "\n",
    "    # ALGO 2\n",
    "    frequency_at_positions = {}\n",
    "    for position in range(5):\n",
    "        frequency_at_positions[position] = {}\n",
    "    for word in words:\n",
    "        for position in range(5):\n",
    "            if word[position] in frequency_at_positions[position]:\n",
    "                frequency_at_positions[position][word[position]] += 1\n",
    "            else:\n",
    "                frequency_at_positions[position][word[position]] = 1\n",
    "    word_scores_algorithm_2 = {}\n",
    "    for word in words:\n",
    "        word_score = 0\n",
    "        position = 0\n",
    "        for letter in word:\n",
    "            scores = frequency_at_positions[position]\n",
    "            word_score += len(words) - scores[letter]\n",
    "            position += 1\n",
    "        word_scores_algorithm_2[word] = word_score\n",
    "\n",
    "    max_score_algorithm_2 = word_scores_algorithm_2[max(word_scores_algorithm_2, key=word_scores_algorithm_2.get)]\n",
    "    min_score_algorithm_2 = word_scores_algorithm_2[min(word_scores_algorithm_2, key=word_scores_algorithm_2.get)]\n",
    "    normalized_scores_algorithm_2 = {}\n",
    "    for word in words:\n",
    "        normalized_scores_algorithm_2[word] = round(100 - (word_scores_algorithm_2[word] - min_score_algorithm_2) / (\n",
    "                max_score_algorithm_2 - min_score_algorithm_2), 3)\n",
    "    sorted_scores_algorithm_2 = {k: v for k, v in\n",
    "                                 sorted(normalized_scores_algorithm_2.items(), key=lambda item: item[1], reverse=True)}\n",
    "    print('Best guesses according to Algorithm 2:')\n",
    "    print(list(sorted_scores_algorithm_2.items())[:5])\n",
    "\n",
    "    # ALGO 3\n",
    "    normalized_scores = {}\n",
    "    for word in words:\n",
    "        normalized_scores[word] = round((normalized_scores_algorithm_1[word] + normalized_scores_algorithm_2[word]) / 2,\n",
    "                                        3)\n",
    "    sorted_scores = {k: v for k, v in\n",
    "                     sorted(normalized_scores.items(), key=lambda item: item[1], reverse=True)}\n",
    "    print('Best guesses overall:')\n",
    "    print(list(sorted_scores.items())[:5])\n"
   ]
  },
  {
   "cell_type": "code",
   "execution_count": 110,
   "id": "3a80150d",
   "metadata": {},
   "outputs": [],
   "source": [
    "\"\"\"\n",
    "WE MAKE A SYSTEM TO PLAY THE GAME, i.e. FILTER OUT WORDS BASED ON THE RULES AND FIND THE BEST GUESS!\n",
    "\"\"\"\n",
    "\n",
    "\"\"\"\n",
    "I could write some code to read the webpage and get the output \n",
    "But I am not going to do that because that's not the point\n",
    "Just manually update the ouput of each guess in the dictionary 'guesses' below\n",
    "\"\"\"\n",
    "\n",
    "\n",
    "\"\"\"\n",
    "GREEN - 2\n",
    "YELLOW - 1\n",
    "GRAY - 0\n",
    "\"\"\"\n",
    "\n",
    "\"\"\"\n",
    "Make the guess suggested by the algorithm and update the results as per the legend above. \n",
    "You get it. Or atleast I hope you do.\n",
    "Keep 'guesses' empty when you start and just run this cell.\n",
    "Once you get the results, put the key as the word you guessed \n",
    "If the result is GREY GREEN GREY YELLOW YELLOW just put the value as 02011\n",
    "Repeat this for each guess you have to make!\n",
    "\"\"\"\n",
    "\n",
    "# Starting\n",
    "guesses = {\n",
    "}\n",
    "\n",
    "# After 3 guesses it will look like\n",
    "guesses = {\n",
    "    'tares': '00100',\n",
    "    'irony': '01100',\n",
    "    'dolor': '01022'\n",
    "}\n",
    "\n",
    "\n",
    "def guess(guesses):\n",
    "    filtered_words = words\n",
    "    print('{} possible words remain!'.format(len(filtered_words)))\n",
    "    get_best_word(filtered_words)\n",
    "    \n",
    "    for guess in guesses:\n",
    "        print()\n",
    "        for letter_index in range(len(guess)):\n",
    "            letter = guess[letter_index]\n",
    "            result = guesses[guess][letter_index]\n",
    "            if result == '2':\n",
    "                filtered_words = [word for word in filtered_words if word[letter_index] == letter]\n",
    "            if result == '1':\n",
    "                filtered_words = [word for word in filtered_words if (letter in word and word[letter_index] != letter)]\n",
    "            if result == '0':\n",
    "                filtered_words = [word for word in filtered_words if letter not in word]\n",
    "\n",
    "        print('{} possible words remain!'.format(len(filtered_words)))\n",
    "\n",
    "        if len(filtered_words) == 0:\n",
    "            print('Filtered out all words. Something\\'s fishy.')\n",
    "        elif len(filtered_words) == 1:\n",
    "            print('Guessed the word. It\\'s \\'{}\\''.format(filtered_words[0]))\n",
    "        elif len(filtered_words) == 2:\n",
    "            print('Its either \\'{}\\' or \\'{}\\''.format(filtered_words[0], filtered_words[1]))\n",
    "        else:\n",
    "            get_best_word(filtered_words)"
   ]
  },
  {
   "cell_type": "markdown",
   "id": "436b3eca",
   "metadata": {},
   "source": [
    "<h3> Let's play today's wordle! (#236 when I'm making this)</h3>"
   ]
  },
  {
   "cell_type": "code",
   "execution_count": 111,
   "id": "dfc63b7f",
   "metadata": {},
   "outputs": [
    {
     "name": "stdout",
     "output_type": "stream",
     "text": [
      "5757 possible words remain!\n",
      "Best guesses according to Algorithm 1:\n",
      "[('arose', 100.0), ('raise', 99.967), ('arise', 99.967), ('aloes', 99.967), ('tears', 99.966)]\n",
      "Best guesses according to Algorithm 2:\n",
      "[('sores', 100.0), ('sales', 99.985), ('soles', 99.981), ('sates', 99.961), ('sires', 99.948)]\n",
      "Best guesses overall:\n",
      "[('tares', 99.947), ('cares', 99.922), ('tales', 99.921), ('dares', 99.919), ('pares', 99.916)]\n",
      "\n",
      "10 possible words remain!\n",
      "Best guesses according to Algorithm 1:\n",
      "[('lapse', 100.0), ('sable', 99.859), ('false', 99.768), ('manse', 99.757), ('cause', 99.713)]\n",
      "Best guesses according to Algorithm 2:\n",
      "[('pause', 100.0), ('cause', 99.857), ('masse', 99.857), ('passe', 99.857), ('false', 99.714)]\n",
      "Best guesses overall:\n",
      "[('pause', 99.853), ('cause', 99.785), ('lapse', 99.785), ('false', 99.741), ('manse', 99.736)]\n",
      "\n",
      "Tips hat\n"
     ]
    }
   ],
   "source": [
    "\"\"\"\n",
    "YOU CAN LISTEN TO ALGORITHM 1 OR 2 AS WELL, BUT I'M GOING TO LISTEN TO THE COMBINED ONE\n",
    "ALL OF THEM WILL WORK THOUGH\n",
    "\"\"\"\n",
    "\n",
    "# After 0 guesses\n",
    "guesses = {}     \n",
    "# After 1 guesses\n",
    "guesses = {\n",
    "    'tares': '02011'\n",
    "}\n",
    "guess(guesses)\n",
    "# After 2 guesses\n",
    "\"WE ALREADY DAMN FOUND THE WORD IN 2 GUESSES.\"\n",
    "# Okay it's smart and all but we were also lucky today\n",
    "\n",
    "# HOT DAMN\n",
    "\"\"\"\n",
    "Wordle 236 2/6\n",
    "\n",
    "⬛🟩⬛🟨🟨\n",
    "🟩🟩🟩🟩🟩\n",
    "\"\"\"\n",
    "print('\\nTips hat')"
   ]
  },
  {
   "cell_type": "code",
   "execution_count": null,
   "id": "5361b94f",
   "metadata": {},
   "outputs": [],
   "source": []
  }
 ],
 "metadata": {
  "kernelspec": {
   "display_name": "Python 3 (ipykernel)",
   "language": "python",
   "name": "python3"
  },
  "language_info": {
   "codemirror_mode": {
    "name": "ipython",
    "version": 3
   },
   "file_extension": ".py",
   "mimetype": "text/x-python",
   "name": "python",
   "nbconvert_exporter": "python",
   "pygments_lexer": "ipython3",
   "version": "3.9.7"
  }
 },
 "nbformat": 4,
 "nbformat_minor": 5
}
